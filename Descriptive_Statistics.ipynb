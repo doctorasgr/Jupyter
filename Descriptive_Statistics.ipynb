{
 "cells": [
  {
   "cell_type": "markdown",
   "metadata": {},
   "source": [
    "Calculating Descriptive Statistics\n",
    "Start by importing all the packages you’ll need:"
   ]
  },
  {
   "cell_type": "code",
   "execution_count": 1,
   "metadata": {},
   "outputs": [],
   "source": [
    "import math\n",
    "import statistics\n",
    "import numpy as np\n",
    "import scipy.stats\n",
    "import pandas as pd"
   ]
  },
  {
   "cell_type": "markdown",
   "metadata": {},
   "source": [
    "Insert the data"
   ]
  },
  {
   "cell_type": "code",
   "execution_count": 3,
   "metadata": {},
   "outputs": [
    {
     "name": "stdout",
     "output_type": "stream",
     "text": [
      "     K_number                 Name     Sex  Admission_age  Spell_id_A  \\\n",
      "0    K0899792       Mrs Nora Dwyer  Female             79    10464132   \n",
      "1    K0048606   Mrs Pamela Bennett  Female             72    10453408   \n",
      "2    K3277383      Mr Lee Matthews    Male             43    10467742   \n",
      "3    K0727938   Mr Jeffrey Sturman    Male             84    10460210   \n",
      "4    K0991516   Mr Eric O'Sullivan    Male             75    10465808   \n",
      "..        ...                  ...     ...            ...         ...   \n",
      "101  K0572692  Mrs Maureen Swinoga  Female             85    10467044   \n",
      "102  K0465696    Miss Julie Bogdan  Female             54    10468774   \n",
      "103  K1794119   Mr Philip Cummings    Male             59    10465699   \n",
      "104  K0386979    Mr Kevin McDonald    Male             56    10467556   \n",
      "105  K0150395      Mrs Mary Curtis  Female             84    10468907   \n",
      "\n",
      "    Spell_PoD_A Spell_disch_meth_A Spell_admit_dttm_A Spell_disch_dttm_A  \\\n",
      "0     Emergency           Deceased   21/12/2020 20:57   04/01/2021 17:00   \n",
      "1     Emergency         Discharged   04/12/2020 17:37   01/01/2021 15:42   \n",
      "2     Emergency         Discharged   29/12/2020 12:10   03/01/2021 16:15   \n",
      "3     Emergency         Discharged   15/12/2020 16:55   09/01/2021 15:00   \n",
      "4     Emergency         Discharged   24/12/2020 06:29   11/02/2021 16:54   \n",
      "..          ...                ...                ...                ...   \n",
      "101   Emergency           Deceased   27/12/2020 18:20   04/01/2021 23:22   \n",
      "102   Emergency         Discharged   30/12/2020 17:28   31/12/2020 13:39   \n",
      "103   Emergency         Discharged   23/12/2020 18:30   12/01/2021 18:30   \n",
      "104   Emergency         Discharged   29/12/2020 08:30   08/01/2021 16:17   \n",
      "105   Emergency         Discharged   31/12/2020 00:37   31/12/2020 18:33   \n",
      "\n",
      "    Spell_disch_week_A  ... Appropriate_sats_target  Days_of_dex  \\\n",
      "0           04/01/2021  ...                       Y           10   \n",
      "1           28/12/2020  ...                       N            9   \n",
      "2           28/12/2020  ...                       N            6   \n",
      "3           04/01/2021  ...                       N           10   \n",
      "4           08/02/2021  ...                       Y           10   \n",
      "..                 ...  ...                     ...          ...   \n",
      "101         04/01/2021  ...                       N            6   \n",
      "102         28/12/2020  ...                       N            0   \n",
      "103         11/01/2021  ...                       N           10   \n",
      "104         04/01/2021  ...                       N           10   \n",
      "105         28/12/2020  ...                     NaN            2   \n",
      "\n",
      "       Reason_stopped  Other_reason...10 Dex_stopped_then_restarted  \\\n",
      "0    10days_completed                NaN                          N   \n",
      "1                  DC                NaN                          Y   \n",
      "2                  DC                NaN                          N   \n",
      "3    10days_completed                NaN                          N   \n",
      "4    10days_completed                NaN                          N   \n",
      "..                ...                ...                        ...   \n",
      "101                DC                NaN                          N   \n",
      "102            off_O2                NaN                          N   \n",
      "103  10days_completed                NaN                          N   \n",
      "104  10days_completed                NaN                          N   \n",
      "105            off_O2                NaN                          N   \n",
      "\n",
      "     Highest level_of_care  Ceiling_of_care  \\\n",
      "0                     ward             Ward   \n",
      "1                     ward             Ward   \n",
      "2                     ward  none_documented   \n",
      "3                     ward             Ward   \n",
      "4                     ward             Ward   \n",
      "..                     ...              ...   \n",
      "101                   ward             Ward   \n",
      "102                   ward              ITU   \n",
      "103              Intubated              ITU   \n",
      "104                   ward              ITU   \n",
      "105                   ward             Ward   \n",
      "\n",
      "                                                 ...14  \\\n",
      "0                                                  NaN   \n",
      "1    9 days Dex > DC > Readmitted > 10 days dex com...   \n",
      "2    SpO2 target >92% in notes. Not changed on drug...   \n",
      "3    SpO2 target >92% in notes. Not changed on drug...   \n",
      "4    SpO2 target reduced during admission to 88-92 ...   \n",
      "..                                                 ...   \n",
      "101                                                NaN   \n",
      "102                                                NaN   \n",
      "103                                                NaN   \n",
      "104                                                NaN   \n",
      "105                                                NaN   \n",
      "\n",
      "                                  ...15  \\\n",
      "0                                   NaN   \n",
      "1    Total 19 days dex over 2 admission   \n",
      "2        Ceiling of care not documented   \n",
      "3                                   NaN   \n",
      "4                                   NaN   \n",
      "..                                  ...   \n",
      "101                                 NaN   \n",
      "102                                 NaN   \n",
      "103                                 NaN   \n",
      "104                                 NaN   \n",
      "105                                 NaN   \n",
      "\n",
      "                                                 ...16  \n",
      "0                                                  NaN  \n",
      "1    SpO2 target changed to >92 when transferred to...  \n",
      "2                                                  NaN  \n",
      "3                                                  NaN  \n",
      "4                                                  NaN  \n",
      "..                                                 ...  \n",
      "101                                                NaN  \n",
      "102                                                NaN  \n",
      "103                                                NaN  \n",
      "104                                                NaN  \n",
      "105                                                NaN  \n",
      "\n",
      "[106 rows x 75 columns]\n"
     ]
    }
   ],
   "source": [
    "data2 = pd.read_csv('December_join2.csv')\n",
    "print(data2)"
   ]
  },
  {
   "cell_type": "code",
   "execution_count": 6,
   "metadata": {},
   "outputs": [
    {
     "name": "stdout",
     "output_type": "stream",
     "text": [
      "Mean age:69.47169811320755\n"
     ]
    }
   ],
   "source": [
    "mean1 = data2['Admission_age'].mean()\n",
    "print('Mean age:' + str(mean1))\n"
   ]
  },
  {
   "cell_type": "code",
   "execution_count": 7,
   "metadata": {},
   "outputs": [],
   "source": [
    "groupby_sum1 = data2.groupby(['Sex']).sum()\n"
   ]
  },
  {
   "cell_type": "code",
   "execution_count": null,
   "metadata": {},
   "outputs": [],
   "source": [
    "import seaborn as sns\n",
    "import matplotlib.pyplot as plt\n",
    "\n",
    "fig, axs = plt.subplots(ncols=5, figsize=(30, 5))\n",
    "sns.violinplot(x=\"survived\", y=\"age\", hue=\"sex\", data=data, ax=axs[0])\n",
    "sns.pointplot(x=\"sibsp\", y=\"survived\", hue=\"sex\", data=data, ax=axs[1])\n"
   ]
  }
 ],
 "metadata": {
  "interpreter": {
   "hash": "bce342a06425425bcd4376603ae152d71b53d068e38a9d4155c35bfa9bd8be61"
  },
  "kernelspec": {
   "display_name": "Python 3.8.8 64-bit ('base': conda)",
   "language": "python",
   "name": "python3"
  },
  "language_info": {
   "codemirror_mode": {
    "name": "ipython",
    "version": 3
   },
   "file_extension": ".py",
   "mimetype": "text/x-python",
   "name": "python",
   "nbconvert_exporter": "python",
   "pygments_lexer": "ipython3",
   "version": "3.8.8"
  },
  "orig_nbformat": 4
 },
 "nbformat": 4,
 "nbformat_minor": 2
}
